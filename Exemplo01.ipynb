{
 "cells": [
  {
   "cell_type": "markdown",
   "metadata": {},
   "source": [
    "# Exemplo 01\n",
    "\n",
    "Created on Sun Sep  4 12:04:09 2016<br />\n",
    "Edited on Sun May  12 22:00:00 2019\n",
    "\n",
    "@author: Psyny<br />\n",
    "@edited: Escudero"
   ]
  },
  {
   "cell_type": "code",
   "execution_count": 1,
   "metadata": {},
   "outputs": [],
   "source": [
    "import CPUtimer"
   ]
  },
  {
   "cell_type": "markdown",
   "metadata": {},
   "source": [
    "## Função a ser cronometrada:"
   ]
  },
  {
   "cell_type": "code",
   "execution_count": 2,
   "metadata": {},
   "outputs": [],
   "source": [
    "def fib(n):\n",
    "    if n < 2:\n",
    "        return n\n",
    "    return fib(n-2) + fib(n-1)"
   ]
  },
  {
   "cell_type": "markdown",
   "metadata": {},
   "source": [
    "## Instanciano a CPU timer  "
   ]
  },
  {
   "cell_type": "code",
   "execution_count": 3,
   "metadata": {},
   "outputs": [],
   "source": [
    "timer = CPUtimer.CPUTimer()"
   ]
  },
  {
   "cell_type": "markdown",
   "metadata": {},
   "source": [
    "## Medindo código curto/rapido executando diversas vezes"
   ]
  },
  {
   "cell_type": "code",
   "execution_count": null,
   "metadata": {},
   "outputs": [],
   "source": [
    "print(\"Medindo codigo rápido repetido diversas vezes:\")\n",
    "timer.reset()\n",
    "timer.start()\n",
    "for i in range(0, 100000):  \n",
    "    fib(10)\n",
    "    timer.lap()\n",
    "timer.stop()"
   ]
  },
  {
   "cell_type": "markdown",
   "metadata": {},
   "source": [
    "### Imprimindo resultados de diversas formas"
   ]
  },
  {
   "cell_type": "code",
   "execution_count": null,
   "metadata": {},
   "outputs": [],
   "source": [
    "print(\"Tempo Total: \" + str( timer.get_time() ) +\" s\")\n",
    "print(\"Tempo Medio: \" + str( timer.get_time(\"average\",\"micro\") ) +\" \\u00B5s\")\n",
    "print(\"Ultima Chamada: \" + str( timer.get_time(\"last\",\"micro\") ) +\" \\u00B5s\")\n",
    "print(\"Estampa 1 do total: \" + str( timer.get_stamp(\"total\",\"si\") ) ) \n",
    "print(\"Estampa 2 do total: \" + str( timer.get_stamp(\"total\",\"clock\") ) )"
   ]
  },
  {
   "cell_type": "markdown",
   "metadata": {},
   "source": [
    "## Medindo código longo/pesado repetido uma Única vez"
   ]
  },
  {
   "cell_type": "code",
   "execution_count": null,
   "metadata": {},
   "outputs": [],
   "source": [
    "print(\"Medindo codigo longo/pesado repetido uma vez:\")\n",
    "timer.reset()\n",
    "timer.start()\n",
    "fib(35)\n",
    "timer.stop()"
   ]
  },
  {
   "cell_type": "markdown",
   "metadata": {},
   "source": [
    "### Imprimindo resultados de diversas formas"
   ]
  },
  {
   "cell_type": "code",
   "execution_count": null,
   "metadata": {},
   "outputs": [],
   "source": [
    "print(\"Tempo Total: \" + str( timer.get_time() ) +\" s\")\n",
    "print(\"Tempo Medio: \" + str( timer.get_time(\"average\",\"micro\") ) +\" \\u00B5s\")\n",
    "print(\"Ultima Chamada: \" + str( timer.get_time(\"last\",\"micro\") ) +\" \\u00B5s\")\n",
    "print(\"Estampa 1 do total: \" + str( timer.get_stamp(\"total\",\"si\") ) ) \n",
    "print(\"Estampa 2 do total: \" + str( timer.get_stamp(\"total\",\"clock\") ) )"
   ]
  },
  {
   "cell_type": "markdown",
   "metadata": {},
   "source": [
    "## Outros exemplos de exibição"
   ]
  },
  {
   "cell_type": "code",
   "execution_count": null,
   "metadata": {},
   "outputs": [],
   "source": [
    "print(\"Estampa que ignora zeros:\")\n",
    "print( timer.get_stamp(\"total\",\"si\",True) )\n",
    "print( timer.get_stamp(\"total\",\"clock\",True) )"
   ]
  }
 ],
 "metadata": {
  "kernelspec": {
   "display_name": "Python 3",
   "language": "python",
   "name": "python3"
  },
  "language_info": {
   "codemirror_mode": {
    "name": "ipython",
    "version": 3
   },
   "file_extension": ".py",
   "mimetype": "text/x-python",
   "name": "python",
   "nbconvert_exporter": "python",
   "pygments_lexer": "ipython3",
   "version": "3.6.5"
  }
 },
 "nbformat": 4,
 "nbformat_minor": 2
}
