{
 "cells": [
  {
   "cell_type": "markdown",
   "metadata": {},
   "source": [
    "# Exemplo 02\n",
    "\n",
    "Created on Mon Sep  5 12:48:47 2016<br />\n",
    "Edited on Sun May  12 22:00:00 2019\n",
    "\n",
    "@author: Rafael França<br />\n",
    "@edited: Escudero"
   ]
  },
  {
   "cell_type": "code",
   "execution_count": 1,
   "metadata": {},
   "outputs": [],
   "source": [
    "import CPUtimer"
   ]
  },
  {
   "cell_type": "markdown",
   "metadata": {},
   "source": [
    "## Função a ser cronometrada:"
   ]
  },
  {
   "cell_type": "code",
   "execution_count": 2,
   "metadata": {},
   "outputs": [],
   "source": [
    "def fib(n):\n",
    "    if n < 2:\n",
    "        return n\n",
    "    return fib(n-2) + fib(n-1)"
   ]
  },
  {
   "cell_type": "markdown",
   "metadata": {},
   "source": [
    "## Instanciano a CPU timer  "
   ]
  },
  {
   "cell_type": "code",
   "execution_count": 3,
   "metadata": {},
   "outputs": [],
   "source": [
    "timer = CPUtimer.CPUTimer()"
   ]
  },
  {
   "cell_type": "markdown",
   "metadata": {},
   "source": [
    "## Função wrapper para fazer instrumentação automatica"
   ]
  },
  {
   "cell_type": "code",
   "execution_count": 4,
   "metadata": {},
   "outputs": [],
   "source": [
    "def w_fib():\n",
    "    return fib(10)"
   ]
  },
  {
   "cell_type": "markdown",
   "metadata": {},
   "source": [
    "## Medindo código curto/rapido executando diversas vezes de forma automática"
   ]
  },
  {
   "cell_type": "code",
   "execution_count": 5,
   "metadata": {},
   "outputs": [
    {
     "name": "stdout",
     "output_type": "stream",
     "text": [
      "Medindo codigo rápido repetido diversas vezes:\n"
     ]
    }
   ],
   "source": [
    "print(\"Medindo codigo rápido repetido diversas vezes:\")\n",
    "timer.auto_loop( w_fib , 100000)"
   ]
  },
  {
   "cell_type": "markdown",
   "metadata": {},
   "source": [
    "### Imprimindo resultados de diversas formas"
   ]
  },
  {
   "cell_type": "code",
   "execution_count": 6,
   "metadata": {},
   "outputs": [
    {
     "name": "stdout",
     "output_type": "stream",
     "text": [
      "Tempo Total: 3.4911404559970833 s\n",
      "Tempo Medio: 34.91140455997083 µs\n",
      "Ultima Chamada: 32.001989893615246 µs\n",
      "Estampa 1 do total: 0h 0m 3s 491ms 140µs\n",
      "Estampa 2 do total: 00:00:03.0491\n"
     ]
    }
   ],
   "source": [
    "print(\"Tempo Total: \" + str( timer.get_time() ) +\" s\")\n",
    "print(\"Tempo Medio: \" + str( timer.get_time(\"average\",\"micro\") ) +\" \\u00B5s\")\n",
    "print(\"Ultima Chamada: \" + str( timer.get_time(\"last\",\"micro\") ) +\" \\u00B5s\")\n",
    "print(\"Estampa 1 do total: \" + str( timer.get_stamp(\"total\",\"si\") ) ) \n",
    "print(\"Estampa 2 do total: \" + str( timer.get_stamp(\"total\",\"clock\") ) )"
   ]
  },
  {
   "cell_type": "code",
   "execution_count": 7,
   "metadata": {},
   "outputs": [],
   "source": [
    "# TODO: Implementar exemplo usando o functools.partial(foo, A, B)"
   ]
  }
 ],
 "metadata": {
  "kernelspec": {
   "display_name": "Python 3",
   "language": "python",
   "name": "python3"
  },
  "language_info": {
   "codemirror_mode": {
    "name": "ipython",
    "version": 3
   },
   "file_extension": ".py",
   "mimetype": "text/x-python",
   "name": "python",
   "nbconvert_exporter": "python",
   "pygments_lexer": "ipython3",
   "version": "3.6.5"
  }
 },
 "nbformat": 4,
 "nbformat_minor": 2
}
