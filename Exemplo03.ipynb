{
 "cells": [
  {
   "cell_type": "markdown",
   "metadata": {},
   "source": [
    "# Exemplo 03\n",
    "\n",
    "Created on Sun May  12 22:00:00 2019\n",
    "\n",
    "@author: Escudero"
   ]
  },
  {
   "cell_type": "code",
   "execution_count": 1,
   "metadata": {},
   "outputs": [],
   "source": [
    "import CPUtimer"
   ]
  },
  {
   "cell_type": "markdown",
   "metadata": {},
   "source": [
    "## Função a ser cronometrada:"
   ]
  },
  {
   "cell_type": "code",
   "execution_count": 2,
   "metadata": {},
   "outputs": [],
   "source": [
    "from time import sleep\n",
    "def func(t):\n",
    "    sleep(t)"
   ]
  },
  {
   "cell_type": "markdown",
   "metadata": {},
   "source": [
    "## Instanciano a CPU timer  "
   ]
  },
  {
   "cell_type": "code",
   "execution_count": 3,
   "metadata": {},
   "outputs": [],
   "source": [
    "timer = CPUtimer.CPUTimer()"
   ]
  },
  {
   "cell_type": "markdown",
   "metadata": {},
   "source": [
    "## Lista que será usada para o loop"
   ]
  },
  {
   "cell_type": "code",
   "execution_count": 4,
   "metadata": {},
   "outputs": [
    {
     "data": {
      "text/plain": [
       "[1, 2, 3, 4, 5]"
      ]
     },
     "execution_count": 4,
     "metadata": {},
     "output_type": "execute_result"
    }
   ],
   "source": [
    "lista = range(1, 6)\n",
    "list(lista)"
   ]
  },
  {
   "cell_type": "markdown",
   "metadata": {},
   "source": [
    "## Chamando a função com o loop da lista.\n",
    "Será chamado a função de sleep para cada loop.<br />\n",
    "Ao todo teremos que esperar 15 segundos, tendo em média 3 segundos para cada iteração"
   ]
  },
  {
   "cell_type": "code",
   "execution_count": 5,
   "metadata": {},
   "outputs": [],
   "source": [
    "timer.reset()\n",
    "timer.start()\n",
    "for i in lista:\n",
    "    func(i)\n",
    "    if i < lista[-1]: # A última iteração não deve chamar o lap\n",
    "        timer.lap()\n",
    "timer.stop()"
   ]
  },
  {
   "cell_type": "markdown",
   "metadata": {},
   "source": [
    "### Imprimindo resultados de diversas formas"
   ]
  },
  {
   "cell_type": "code",
   "execution_count": 6,
   "metadata": {
    "scrolled": true
   },
   "outputs": [
    {
     "name": "stdout",
     "output_type": "stream",
     "text": [
      "Tempo Total: 15.016233921051025 s\n",
      "Tempo Medio: 3.003246784210205 s\n",
      "Última Chamada: 5.005615234375 s\n"
     ]
    }
   ],
   "source": [
    "print(\"Tempo Total: \" + str( timer.get_time() ) +\" s\")\n",
    "print(\"Tempo Medio: \" + str( timer.get_time(\"average\",\"s\") ) +\" s\")\n",
    "print(\"Última Chamada: \" + str( timer.get_time(\"last\",\"s\") ) +\" s\")"
   ]
  },
  {
   "cell_type": "markdown",
   "metadata": {},
   "source": [
    "### Verificando se os resultados estão batendo"
   ]
  },
  {
   "cell_type": "code",
   "execution_count": 7,
   "metadata": {},
   "outputs": [
    {
     "name": "stdout",
     "output_type": "stream",
     "text": [
      "15.016233921051025 == 15.016233921051025 = True\n"
     ]
    }
   ],
   "source": [
    "tempo_total = timer.get_time()\n",
    "tempo_total_com_medias = timer.get_time(\"average\",\"s\") * len(lista)\n",
    "tempo_iquais = tempo_total == tempo_total_com_medias\n",
    "print('{} == {} = {}'.format(tempo_total, tempo_total_com_medias, tempo_iquais))"
   ]
  },
  {
   "cell_type": "markdown",
   "metadata": {},
   "source": [
    "##### -------"
   ]
  },
  {
   "cell_type": "markdown",
   "metadata": {},
   "source": [
    "## Chamando a função com o loop da lista removendo o último lap separado.\n",
    "<b>ATENÇÃO: </b> A função <u>remove_last_lap()</u> só pode ser chamada apenas 1x e quando estiver no <u>stop()</u>"
   ]
  },
  {
   "cell_type": "code",
   "execution_count": 8,
   "metadata": {},
   "outputs": [],
   "source": [
    "timer.reset()\n",
    "timer.start()\n",
    "for i in lista:\n",
    "    func(i)\n",
    "    timer.lap()\n",
    "    \n",
    "timer.stop()\n",
    "timer.remove_last_lap()"
   ]
  },
  {
   "cell_type": "markdown",
   "metadata": {},
   "source": [
    "### Imprimindo resultados de diversas formas"
   ]
  },
  {
   "cell_type": "code",
   "execution_count": 9,
   "metadata": {},
   "outputs": [
    {
     "name": "stdout",
     "output_type": "stream",
     "text": [
      "Tempo Total: 15.013436317443848 s\n",
      "Tempo Medio: 3.0026872634887694 s\n",
      "Última Chamada: 5.0049920082092285 s\n"
     ]
    }
   ],
   "source": [
    "print(\"Tempo Total: \" + str( timer.get_time() ) +\" s\")\n",
    "print(\"Tempo Medio: \" + str( timer.get_time(\"average\",\"s\") ) +\" s\")\n",
    "print(\"Última Chamada: \" + str( timer.get_time(\"last\",\"s\") ) +\" s\")"
   ]
  },
  {
   "cell_type": "markdown",
   "metadata": {},
   "source": [
    "### Verificando se os resultados estão batendo"
   ]
  },
  {
   "cell_type": "code",
   "execution_count": 10,
   "metadata": {},
   "outputs": [
    {
     "name": "stdout",
     "output_type": "stream",
     "text": [
      "15.013436317443848 == 15.013436317443848 = True\n"
     ]
    }
   ],
   "source": [
    "tempo_total = timer.get_time()\n",
    "tempo_total_com_medias = timer.get_time(\"average\",\"s\") * len(lista)\n",
    "tempo_iquais = tempo_total == tempo_total_com_medias\n",
    "print('{} == {} = {}'.format(tempo_total, tempo_total_com_medias, tempo_iquais))"
   ]
  },
  {
   "cell_type": "code",
   "execution_count": null,
   "metadata": {},
   "outputs": [],
   "source": []
  }
 ],
 "metadata": {
  "kernelspec": {
   "display_name": "Python 3",
   "language": "python",
   "name": "python3"
  },
  "language_info": {
   "codemirror_mode": {
    "name": "ipython",
    "version": 3
   },
   "file_extension": ".py",
   "mimetype": "text/x-python",
   "name": "python",
   "nbconvert_exporter": "python",
   "pygments_lexer": "ipython3",
   "version": "3.6.5"
  }
 },
 "nbformat": 4,
 "nbformat_minor": 2
}
